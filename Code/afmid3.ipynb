{
 "cells": [
  {
   "cell_type": "code",
   "execution_count": 2,
   "id": "5c2d0bf7",
   "metadata": {},
   "outputs": [],
   "source": [
    "import pandas as pd\n"
   ]
  },
  {
   "cell_type": "code",
   "execution_count": 6,
   "id": "349cdb4f",
   "metadata": {},
   "outputs": [],
   "source": [
    "df = pd.read_excel(\"E:/Course/DataWareHousing/Final/Labs/DataSets/SuperstoreData.xls\")"
   ]
  },
  {
   "cell_type": "code",
   "execution_count": 7,
   "id": "9cd50de5",
   "metadata": {},
   "outputs": [
    {
     "data": {
      "text/plain": [
       "(9994, 21)"
      ]
     },
     "execution_count": 7,
     "metadata": {},
     "output_type": "execute_result"
    }
   ],
   "source": [
    "df.shape"
   ]
  },
  {
   "cell_type": "code",
   "execution_count": 8,
   "id": "4f8adf63",
   "metadata": {},
   "outputs": [
    {
     "data": {
      "text/plain": [
       "Index(['Row ID', 'Order ID', 'Order Date', 'Ship Date', 'Ship Mode',\n",
       "       'Customer ID', 'Customer Name', 'Segment', 'Country', 'City', 'State',\n",
       "       'Postal Code', 'Region', 'Product ID', 'Category', 'Sub-Category',\n",
       "       'Product Name', 'Sales', 'Quantity', 'Discount', 'Profit'],\n",
       "      dtype='object')"
      ]
     },
     "execution_count": 8,
     "metadata": {},
     "output_type": "execute_result"
    }
   ],
   "source": [
    "df.columns"
   ]
  },
  {
   "cell_type": "code",
   "execution_count": 9,
   "id": "8618e2d3",
   "metadata": {},
   "outputs": [
    {
     "data": {
      "text/plain": [
       "Row ID                    int64\n",
       "Order ID                 object\n",
       "Order Date       datetime64[ns]\n",
       "Ship Date        datetime64[ns]\n",
       "Ship Mode                object\n",
       "Customer ID              object\n",
       "Customer Name            object\n",
       "Segment                  object\n",
       "Country                  object\n",
       "City                     object\n",
       "State                    object\n",
       "Postal Code               int64\n",
       "Region                   object\n",
       "Product ID               object\n",
       "Category                 object\n",
       "Sub-Category             object\n",
       "Product Name             object\n",
       "Sales                   float64\n",
       "Quantity                  int64\n",
       "Discount                float64\n",
       "Profit                  float64\n",
       "dtype: object"
      ]
     },
     "execution_count": 9,
     "metadata": {},
     "output_type": "execute_result"
    }
   ],
   "source": [
    "df.dtypes"
   ]
  },
  {
   "cell_type": "code",
   "execution_count": 10,
   "id": "b6cb8057",
   "metadata": {},
   "outputs": [
    {
     "data": {
      "text/html": [
       "<div>\n",
       "<style scoped>\n",
       "    .dataframe tbody tr th:only-of-type {\n",
       "        vertical-align: middle;\n",
       "    }\n",
       "\n",
       "    .dataframe tbody tr th {\n",
       "        vertical-align: top;\n",
       "    }\n",
       "\n",
       "    .dataframe thead th {\n",
       "        text-align: right;\n",
       "    }\n",
       "</style>\n",
       "<table border=\"1\" class=\"dataframe\">\n",
       "  <thead>\n",
       "    <tr style=\"text-align: right;\">\n",
       "      <th></th>\n",
       "      <th>Row ID</th>\n",
       "      <th>Order ID</th>\n",
       "      <th>Order Date</th>\n",
       "      <th>Ship Date</th>\n",
       "      <th>Ship Mode</th>\n",
       "      <th>Customer ID</th>\n",
       "      <th>Customer Name</th>\n",
       "      <th>Segment</th>\n",
       "      <th>Country</th>\n",
       "      <th>City</th>\n",
       "      <th>...</th>\n",
       "      <th>Postal Code</th>\n",
       "      <th>Region</th>\n",
       "      <th>Product ID</th>\n",
       "      <th>Category</th>\n",
       "      <th>Sub-Category</th>\n",
       "      <th>Product Name</th>\n",
       "      <th>Sales</th>\n",
       "      <th>Quantity</th>\n",
       "      <th>Discount</th>\n",
       "      <th>Profit</th>\n",
       "    </tr>\n",
       "  </thead>\n",
       "  <tbody>\n",
       "    <tr>\n",
       "      <th>0</th>\n",
       "      <td>1</td>\n",
       "      <td>CA-2016-152156</td>\n",
       "      <td>2016-11-08</td>\n",
       "      <td>2016-11-11</td>\n",
       "      <td>Second Class</td>\n",
       "      <td>CG-12520</td>\n",
       "      <td>Claire Gute</td>\n",
       "      <td>Consumer</td>\n",
       "      <td>United States</td>\n",
       "      <td>Henderson</td>\n",
       "      <td>...</td>\n",
       "      <td>42420</td>\n",
       "      <td>South</td>\n",
       "      <td>FUR-BO-10001798</td>\n",
       "      <td>Furniture</td>\n",
       "      <td>Bookcases</td>\n",
       "      <td>Bush Somerset Collection Bookcase</td>\n",
       "      <td>261.9600</td>\n",
       "      <td>2</td>\n",
       "      <td>0.00</td>\n",
       "      <td>41.9136</td>\n",
       "    </tr>\n",
       "    <tr>\n",
       "      <th>1</th>\n",
       "      <td>2</td>\n",
       "      <td>CA-2016-152156</td>\n",
       "      <td>2016-11-08</td>\n",
       "      <td>2016-11-11</td>\n",
       "      <td>Second Class</td>\n",
       "      <td>CG-12520</td>\n",
       "      <td>Claire Gute</td>\n",
       "      <td>Consumer</td>\n",
       "      <td>United States</td>\n",
       "      <td>Henderson</td>\n",
       "      <td>...</td>\n",
       "      <td>42420</td>\n",
       "      <td>South</td>\n",
       "      <td>FUR-CH-10000454</td>\n",
       "      <td>Furniture</td>\n",
       "      <td>Chairs</td>\n",
       "      <td>Hon Deluxe Fabric Upholstered Stacking Chairs,...</td>\n",
       "      <td>731.9400</td>\n",
       "      <td>3</td>\n",
       "      <td>0.00</td>\n",
       "      <td>219.5820</td>\n",
       "    </tr>\n",
       "    <tr>\n",
       "      <th>2</th>\n",
       "      <td>3</td>\n",
       "      <td>CA-2016-138688</td>\n",
       "      <td>2016-06-12</td>\n",
       "      <td>2016-06-16</td>\n",
       "      <td>Second Class</td>\n",
       "      <td>DV-13045</td>\n",
       "      <td>Darrin Van Huff</td>\n",
       "      <td>Corporate</td>\n",
       "      <td>United States</td>\n",
       "      <td>Los Angeles</td>\n",
       "      <td>...</td>\n",
       "      <td>90036</td>\n",
       "      <td>West</td>\n",
       "      <td>OFF-LA-10000240</td>\n",
       "      <td>Office Supplies</td>\n",
       "      <td>Labels</td>\n",
       "      <td>Self-Adhesive Address Labels for Typewriters b...</td>\n",
       "      <td>14.6200</td>\n",
       "      <td>2</td>\n",
       "      <td>0.00</td>\n",
       "      <td>6.8714</td>\n",
       "    </tr>\n",
       "    <tr>\n",
       "      <th>3</th>\n",
       "      <td>4</td>\n",
       "      <td>US-2015-108966</td>\n",
       "      <td>2015-10-11</td>\n",
       "      <td>2015-10-18</td>\n",
       "      <td>Standard Class</td>\n",
       "      <td>SO-20335</td>\n",
       "      <td>Sean O'Donnell</td>\n",
       "      <td>Consumer</td>\n",
       "      <td>United States</td>\n",
       "      <td>Fort Lauderdale</td>\n",
       "      <td>...</td>\n",
       "      <td>33311</td>\n",
       "      <td>South</td>\n",
       "      <td>FUR-TA-10000577</td>\n",
       "      <td>Furniture</td>\n",
       "      <td>Tables</td>\n",
       "      <td>Bretford CR4500 Series Slim Rectangular Table</td>\n",
       "      <td>957.5775</td>\n",
       "      <td>5</td>\n",
       "      <td>0.45</td>\n",
       "      <td>-383.0310</td>\n",
       "    </tr>\n",
       "    <tr>\n",
       "      <th>4</th>\n",
       "      <td>5</td>\n",
       "      <td>US-2015-108966</td>\n",
       "      <td>2015-10-11</td>\n",
       "      <td>2015-10-18</td>\n",
       "      <td>Standard Class</td>\n",
       "      <td>SO-20335</td>\n",
       "      <td>Sean O'Donnell</td>\n",
       "      <td>Consumer</td>\n",
       "      <td>United States</td>\n",
       "      <td>Fort Lauderdale</td>\n",
       "      <td>...</td>\n",
       "      <td>33311</td>\n",
       "      <td>South</td>\n",
       "      <td>OFF-ST-10000760</td>\n",
       "      <td>Office Supplies</td>\n",
       "      <td>Storage</td>\n",
       "      <td>Eldon Fold 'N Roll Cart System</td>\n",
       "      <td>22.3680</td>\n",
       "      <td>2</td>\n",
       "      <td>0.20</td>\n",
       "      <td>2.5164</td>\n",
       "    </tr>\n",
       "  </tbody>\n",
       "</table>\n",
       "<p>5 rows × 21 columns</p>\n",
       "</div>"
      ],
      "text/plain": [
       "   Row ID        Order ID Order Date  Ship Date       Ship Mode Customer ID  \\\n",
       "0       1  CA-2016-152156 2016-11-08 2016-11-11    Second Class    CG-12520   \n",
       "1       2  CA-2016-152156 2016-11-08 2016-11-11    Second Class    CG-12520   \n",
       "2       3  CA-2016-138688 2016-06-12 2016-06-16    Second Class    DV-13045   \n",
       "3       4  US-2015-108966 2015-10-11 2015-10-18  Standard Class    SO-20335   \n",
       "4       5  US-2015-108966 2015-10-11 2015-10-18  Standard Class    SO-20335   \n",
       "\n",
       "     Customer Name    Segment        Country             City  ...  \\\n",
       "0      Claire Gute   Consumer  United States        Henderson  ...   \n",
       "1      Claire Gute   Consumer  United States        Henderson  ...   \n",
       "2  Darrin Van Huff  Corporate  United States      Los Angeles  ...   \n",
       "3   Sean O'Donnell   Consumer  United States  Fort Lauderdale  ...   \n",
       "4   Sean O'Donnell   Consumer  United States  Fort Lauderdale  ...   \n",
       "\n",
       "  Postal Code  Region       Product ID         Category Sub-Category  \\\n",
       "0       42420   South  FUR-BO-10001798        Furniture    Bookcases   \n",
       "1       42420   South  FUR-CH-10000454        Furniture       Chairs   \n",
       "2       90036    West  OFF-LA-10000240  Office Supplies       Labels   \n",
       "3       33311   South  FUR-TA-10000577        Furniture       Tables   \n",
       "4       33311   South  OFF-ST-10000760  Office Supplies      Storage   \n",
       "\n",
       "                                        Product Name     Sales  Quantity  \\\n",
       "0                  Bush Somerset Collection Bookcase  261.9600         2   \n",
       "1  Hon Deluxe Fabric Upholstered Stacking Chairs,...  731.9400         3   \n",
       "2  Self-Adhesive Address Labels for Typewriters b...   14.6200         2   \n",
       "3      Bretford CR4500 Series Slim Rectangular Table  957.5775         5   \n",
       "4                     Eldon Fold 'N Roll Cart System   22.3680         2   \n",
       "\n",
       "   Discount    Profit  \n",
       "0      0.00   41.9136  \n",
       "1      0.00  219.5820  \n",
       "2      0.00    6.8714  \n",
       "3      0.45 -383.0310  \n",
       "4      0.20    2.5164  \n",
       "\n",
       "[5 rows x 21 columns]"
      ]
     },
     "execution_count": 10,
     "metadata": {},
     "output_type": "execute_result"
    }
   ],
   "source": [
    "df.head()"
   ]
  },
  {
   "cell_type": "code",
   "execution_count": 11,
   "id": "c4276809",
   "metadata": {},
   "outputs": [
    {
     "data": {
      "text/plain": [
       "Row ID                    int64\n",
       "Order ID                 object\n",
       "Order Date       datetime64[ns]\n",
       "Ship Date        datetime64[ns]\n",
       "Ship Mode                object\n",
       "Customer ID              object\n",
       "Customer Name            object\n",
       "Segment                  object\n",
       "Country                  object\n",
       "City                     object\n",
       "State                    object\n",
       "Postal Code               int64\n",
       "Region                   object\n",
       "Product ID               object\n",
       "Category                 object\n",
       "Sub-Category             object\n",
       "Product Name             object\n",
       "Sales                   float64\n",
       "Quantity                  int64\n",
       "Discount                float64\n",
       "Profit                  float64\n",
       "dtype: object"
      ]
     },
     "execution_count": 11,
     "metadata": {},
     "output_type": "execute_result"
    }
   ],
   "source": [
    "df['Order Date'] = pd.to_datetime(df['Order Date'])\n",
    "df.dtypes"
   ]
  },
  {
   "cell_type": "code",
   "execution_count": 12,
   "id": "3d730669",
   "metadata": {},
   "outputs": [
    {
     "data": {
      "text/plain": [
       "Customer ID      793\n",
       "Customer Name    793\n",
       "Segment            3\n",
       "dtype: int64"
      ]
     },
     "execution_count": 12,
     "metadata": {},
     "output_type": "execute_result"
    }
   ],
   "source": [
    "df[['Customer ID', 'Customer Name', 'Segment']].nunique()\n"
   ]
  },
  {
   "cell_type": "code",
   "execution_count": 13,
   "id": "0d5e6229",
   "metadata": {},
   "outputs": [
    {
     "data": {
      "text/plain": [
       "(793, 3)"
      ]
     },
     "execution_count": 13,
     "metadata": {},
     "output_type": "execute_result"
    }
   ],
   "source": [
    "DimCst = df[['Customer ID', 'Customer Name', 'Segment']].drop_duplicates().sort_values('Customer ID').reset_index(drop = True)\n",
    "DimCst.shape"
   ]
  },
  {
   "cell_type": "code",
   "execution_count": 14,
   "id": "093ffe3c",
   "metadata": {},
   "outputs": [
    {
     "data": {
      "text/html": [
       "<div>\n",
       "<style scoped>\n",
       "    .dataframe tbody tr th:only-of-type {\n",
       "        vertical-align: middle;\n",
       "    }\n",
       "\n",
       "    .dataframe tbody tr th {\n",
       "        vertical-align: top;\n",
       "    }\n",
       "\n",
       "    .dataframe thead th {\n",
       "        text-align: right;\n",
       "    }\n",
       "</style>\n",
       "<table border=\"1\" class=\"dataframe\">\n",
       "  <thead>\n",
       "    <tr style=\"text-align: right;\">\n",
       "      <th></th>\n",
       "      <th>Customer ID</th>\n",
       "      <th>Customer Name</th>\n",
       "      <th>Segment</th>\n",
       "    </tr>\n",
       "  </thead>\n",
       "  <tbody>\n",
       "    <tr>\n",
       "      <th>0</th>\n",
       "      <td>AA-10315</td>\n",
       "      <td>Alex Avila</td>\n",
       "      <td>Consumer</td>\n",
       "    </tr>\n",
       "    <tr>\n",
       "      <th>1</th>\n",
       "      <td>AA-10375</td>\n",
       "      <td>Allen Armold</td>\n",
       "      <td>Consumer</td>\n",
       "    </tr>\n",
       "    <tr>\n",
       "      <th>2</th>\n",
       "      <td>AA-10480</td>\n",
       "      <td>Andrew Allen</td>\n",
       "      <td>Consumer</td>\n",
       "    </tr>\n",
       "    <tr>\n",
       "      <th>3</th>\n",
       "      <td>AA-10645</td>\n",
       "      <td>Anna Andreadi</td>\n",
       "      <td>Consumer</td>\n",
       "    </tr>\n",
       "    <tr>\n",
       "      <th>4</th>\n",
       "      <td>AB-10015</td>\n",
       "      <td>Aaron Bergman</td>\n",
       "      <td>Consumer</td>\n",
       "    </tr>\n",
       "  </tbody>\n",
       "</table>\n",
       "</div>"
      ],
      "text/plain": [
       "  Customer ID  Customer Name   Segment\n",
       "0    AA-10315     Alex Avila  Consumer\n",
       "1    AA-10375   Allen Armold  Consumer\n",
       "2    AA-10480   Andrew Allen  Consumer\n",
       "3    AA-10645  Anna Andreadi  Consumer\n",
       "4    AB-10015  Aaron Bergman  Consumer"
      ]
     },
     "execution_count": 14,
     "metadata": {},
     "output_type": "execute_result"
    }
   ],
   "source": [
    "DimCst.head()\n"
   ]
  },
  {
   "cell_type": "code",
   "execution_count": 15,
   "id": "71154e44",
   "metadata": {},
   "outputs": [],
   "source": [
    "cRw = DimCst.shape[0]"
   ]
  },
  {
   "cell_type": "code",
   "execution_count": 16,
   "id": "24d372ff",
   "metadata": {},
   "outputs": [],
   "source": [
    "DimCst.insert(0, 'CustKey', range(1, 1 + cRw))"
   ]
  },
  {
   "cell_type": "code",
   "execution_count": 17,
   "id": "0827aa9e",
   "metadata": {},
   "outputs": [
    {
     "data": {
      "text/html": [
       "<div>\n",
       "<style scoped>\n",
       "    .dataframe tbody tr th:only-of-type {\n",
       "        vertical-align: middle;\n",
       "    }\n",
       "\n",
       "    .dataframe tbody tr th {\n",
       "        vertical-align: top;\n",
       "    }\n",
       "\n",
       "    .dataframe thead th {\n",
       "        text-align: right;\n",
       "    }\n",
       "</style>\n",
       "<table border=\"1\" class=\"dataframe\">\n",
       "  <thead>\n",
       "    <tr style=\"text-align: right;\">\n",
       "      <th></th>\n",
       "      <th>CustKey</th>\n",
       "      <th>Customer ID</th>\n",
       "      <th>Customer Name</th>\n",
       "      <th>Segment</th>\n",
       "    </tr>\n",
       "  </thead>\n",
       "  <tbody>\n",
       "    <tr>\n",
       "      <th>0</th>\n",
       "      <td>1</td>\n",
       "      <td>AA-10315</td>\n",
       "      <td>Alex Avila</td>\n",
       "      <td>Consumer</td>\n",
       "    </tr>\n",
       "    <tr>\n",
       "      <th>1</th>\n",
       "      <td>2</td>\n",
       "      <td>AA-10375</td>\n",
       "      <td>Allen Armold</td>\n",
       "      <td>Consumer</td>\n",
       "    </tr>\n",
       "    <tr>\n",
       "      <th>2</th>\n",
       "      <td>3</td>\n",
       "      <td>AA-10480</td>\n",
       "      <td>Andrew Allen</td>\n",
       "      <td>Consumer</td>\n",
       "    </tr>\n",
       "    <tr>\n",
       "      <th>3</th>\n",
       "      <td>4</td>\n",
       "      <td>AA-10645</td>\n",
       "      <td>Anna Andreadi</td>\n",
       "      <td>Consumer</td>\n",
       "    </tr>\n",
       "    <tr>\n",
       "      <th>4</th>\n",
       "      <td>5</td>\n",
       "      <td>AB-10015</td>\n",
       "      <td>Aaron Bergman</td>\n",
       "      <td>Consumer</td>\n",
       "    </tr>\n",
       "  </tbody>\n",
       "</table>\n",
       "</div>"
      ],
      "text/plain": [
       "   CustKey Customer ID  Customer Name   Segment\n",
       "0        1    AA-10315     Alex Avila  Consumer\n",
       "1        2    AA-10375   Allen Armold  Consumer\n",
       "2        3    AA-10480   Andrew Allen  Consumer\n",
       "3        4    AA-10645  Anna Andreadi  Consumer\n",
       "4        5    AB-10015  Aaron Bergman  Consumer"
      ]
     },
     "execution_count": 17,
     "metadata": {},
     "output_type": "execute_result"
    }
   ],
   "source": [
    "DimCst.set_index('CustKey')\n",
    "DimCst.head()"
   ]
  },
  {
   "cell_type": "code",
   "execution_count": 18,
   "id": "f7151548",
   "metadata": {},
   "outputs": [
    {
     "data": {
      "text/plain": [
       "Postal Code    631\n",
       "City           531\n",
       "State           49\n",
       "Country          1\n",
       "Region           4\n",
       "dtype: int64"
      ]
     },
     "execution_count": 18,
     "metadata": {},
     "output_type": "execute_result"
    }
   ],
   "source": [
    "df[['Postal Code', 'City', 'State', 'Country', 'Region']].nunique()"
   ]
  },
  {
   "cell_type": "code",
   "execution_count": 19,
   "id": "6d2ef024",
   "metadata": {},
   "outputs": [
    {
     "data": {
      "text/plain": [
       "City       531\n",
       "State       49\n",
       "Country      1\n",
       "Region       4\n",
       "dtype: int64"
      ]
     },
     "execution_count": 19,
     "metadata": {},
     "output_type": "execute_result"
    }
   ],
   "source": [
    "df[['City', 'State', 'Country', 'Region']].nunique()"
   ]
  },
  {
   "cell_type": "code",
   "execution_count": 20,
   "id": "deacad65",
   "metadata": {},
   "outputs": [
    {
     "data": {
      "text/plain": [
       "(604, 4)"
      ]
     },
     "execution_count": 20,
     "metadata": {},
     "output_type": "execute_result"
    }
   ],
   "source": [
    "\n",
    "#New Dim Location tabIe\n",
    "DimLoc = df[['City', 'State', 'Country', 'Region']].drop_duplicates().sort_values('City').reset_index(drop = True)\n",
    "DimLoc.shape\n"
   ]
  },
  {
   "cell_type": "code",
   "execution_count": 21,
   "id": "0fac43eb",
   "metadata": {},
   "outputs": [
    {
     "data": {
      "text/html": [
       "<div>\n",
       "<style scoped>\n",
       "    .dataframe tbody tr th:only-of-type {\n",
       "        vertical-align: middle;\n",
       "    }\n",
       "\n",
       "    .dataframe tbody tr th {\n",
       "        vertical-align: top;\n",
       "    }\n",
       "\n",
       "    .dataframe thead th {\n",
       "        text-align: right;\n",
       "    }\n",
       "</style>\n",
       "<table border=\"1\" class=\"dataframe\">\n",
       "  <thead>\n",
       "    <tr style=\"text-align: right;\">\n",
       "      <th></th>\n",
       "      <th>City</th>\n",
       "      <th>State</th>\n",
       "      <th>Country</th>\n",
       "      <th>Region</th>\n",
       "    </tr>\n",
       "  </thead>\n",
       "  <tbody>\n",
       "    <tr>\n",
       "      <th>0</th>\n",
       "      <td>Aberdeen</td>\n",
       "      <td>South Dakota</td>\n",
       "      <td>United States</td>\n",
       "      <td>Central</td>\n",
       "    </tr>\n",
       "    <tr>\n",
       "      <th>1</th>\n",
       "      <td>Abilene</td>\n",
       "      <td>Texas</td>\n",
       "      <td>United States</td>\n",
       "      <td>Central</td>\n",
       "    </tr>\n",
       "    <tr>\n",
       "      <th>2</th>\n",
       "      <td>Akron</td>\n",
       "      <td>Ohio</td>\n",
       "      <td>United States</td>\n",
       "      <td>East</td>\n",
       "    </tr>\n",
       "    <tr>\n",
       "      <th>3</th>\n",
       "      <td>Albuquerque</td>\n",
       "      <td>New Mexico</td>\n",
       "      <td>United States</td>\n",
       "      <td>West</td>\n",
       "    </tr>\n",
       "    <tr>\n",
       "      <th>4</th>\n",
       "      <td>Alexandria</td>\n",
       "      <td>Virginia</td>\n",
       "      <td>United States</td>\n",
       "      <td>South</td>\n",
       "    </tr>\n",
       "  </tbody>\n",
       "</table>\n",
       "</div>"
      ],
      "text/plain": [
       "          City         State        Country   Region\n",
       "0     Aberdeen  South Dakota  United States  Central\n",
       "1      Abilene         Texas  United States  Central\n",
       "2        Akron          Ohio  United States     East\n",
       "3  Albuquerque    New Mexico  United States     West\n",
       "4   Alexandria      Virginia  United States    South"
      ]
     },
     "execution_count": 21,
     "metadata": {},
     "output_type": "execute_result"
    }
   ],
   "source": [
    "DimLoc.head()"
   ]
  },
  {
   "cell_type": "code",
   "execution_count": 22,
   "id": "4bb52fd7",
   "metadata": {},
   "outputs": [
    {
     "data": {
      "text/html": [
       "<div>\n",
       "<style scoped>\n",
       "    .dataframe tbody tr th:only-of-type {\n",
       "        vertical-align: middle;\n",
       "    }\n",
       "\n",
       "    .dataframe tbody tr th {\n",
       "        vertical-align: top;\n",
       "    }\n",
       "\n",
       "    .dataframe thead th {\n",
       "        text-align: right;\n",
       "    }\n",
       "</style>\n",
       "<table border=\"1\" class=\"dataframe\">\n",
       "  <thead>\n",
       "    <tr style=\"text-align: right;\">\n",
       "      <th></th>\n",
       "      <th>City</th>\n",
       "      <th>State</th>\n",
       "      <th>Country</th>\n",
       "      <th>Region</th>\n",
       "    </tr>\n",
       "  </thead>\n",
       "  <tbody>\n",
       "    <tr>\n",
       "      <th>599</th>\n",
       "      <td>Woonsocket</td>\n",
       "      <td>Rhode Island</td>\n",
       "      <td>United States</td>\n",
       "      <td>East</td>\n",
       "    </tr>\n",
       "    <tr>\n",
       "      <th>600</th>\n",
       "      <td>Yonkers</td>\n",
       "      <td>New York</td>\n",
       "      <td>United States</td>\n",
       "      <td>East</td>\n",
       "    </tr>\n",
       "    <tr>\n",
       "      <th>601</th>\n",
       "      <td>York</td>\n",
       "      <td>Pennsylvania</td>\n",
       "      <td>United States</td>\n",
       "      <td>East</td>\n",
       "    </tr>\n",
       "    <tr>\n",
       "      <th>602</th>\n",
       "      <td>Yucaipa</td>\n",
       "      <td>California</td>\n",
       "      <td>United States</td>\n",
       "      <td>West</td>\n",
       "    </tr>\n",
       "    <tr>\n",
       "      <th>603</th>\n",
       "      <td>Yuma</td>\n",
       "      <td>Arizona</td>\n",
       "      <td>United States</td>\n",
       "      <td>West</td>\n",
       "    </tr>\n",
       "  </tbody>\n",
       "</table>\n",
       "</div>"
      ],
      "text/plain": [
       "           City         State        Country Region\n",
       "599  Woonsocket  Rhode Island  United States   East\n",
       "600     Yonkers      New York  United States   East\n",
       "601        York  Pennsylvania  United States   East\n",
       "602     Yucaipa    California  United States   West\n",
       "603        Yuma       Arizona  United States   West"
      ]
     },
     "execution_count": 22,
     "metadata": {},
     "output_type": "execute_result"
    }
   ],
   "source": [
    "DimLoc.tail()\n"
   ]
  },
  {
   "cell_type": "code",
   "execution_count": 23,
   "id": "1ac81b65",
   "metadata": {},
   "outputs": [
    {
     "data": {
      "text/html": [
       "<div>\n",
       "<style scoped>\n",
       "    .dataframe tbody tr th:only-of-type {\n",
       "        vertical-align: middle;\n",
       "    }\n",
       "\n",
       "    .dataframe tbody tr th {\n",
       "        vertical-align: top;\n",
       "    }\n",
       "\n",
       "    .dataframe thead th {\n",
       "        text-align: right;\n",
       "    }\n",
       "</style>\n",
       "<table border=\"1\" class=\"dataframe\">\n",
       "  <thead>\n",
       "    <tr style=\"text-align: right;\">\n",
       "      <th></th>\n",
       "      <th>CityKey</th>\n",
       "      <th>City</th>\n",
       "      <th>State</th>\n",
       "      <th>Country</th>\n",
       "      <th>Region</th>\n",
       "    </tr>\n",
       "  </thead>\n",
       "  <tbody>\n",
       "    <tr>\n",
       "      <th>0</th>\n",
       "      <td>1</td>\n",
       "      <td>Aberdeen</td>\n",
       "      <td>South Dakota</td>\n",
       "      <td>United States</td>\n",
       "      <td>Central</td>\n",
       "    </tr>\n",
       "    <tr>\n",
       "      <th>1</th>\n",
       "      <td>2</td>\n",
       "      <td>Abilene</td>\n",
       "      <td>Texas</td>\n",
       "      <td>United States</td>\n",
       "      <td>Central</td>\n",
       "    </tr>\n",
       "    <tr>\n",
       "      <th>2</th>\n",
       "      <td>3</td>\n",
       "      <td>Akron</td>\n",
       "      <td>Ohio</td>\n",
       "      <td>United States</td>\n",
       "      <td>East</td>\n",
       "    </tr>\n",
       "    <tr>\n",
       "      <th>3</th>\n",
       "      <td>4</td>\n",
       "      <td>Albuquerque</td>\n",
       "      <td>New Mexico</td>\n",
       "      <td>United States</td>\n",
       "      <td>West</td>\n",
       "    </tr>\n",
       "    <tr>\n",
       "      <th>4</th>\n",
       "      <td>5</td>\n",
       "      <td>Alexandria</td>\n",
       "      <td>Virginia</td>\n",
       "      <td>United States</td>\n",
       "      <td>South</td>\n",
       "    </tr>\n",
       "  </tbody>\n",
       "</table>\n",
       "</div>"
      ],
      "text/plain": [
       "   CityKey         City         State        Country   Region\n",
       "0        1     Aberdeen  South Dakota  United States  Central\n",
       "1        2      Abilene         Texas  United States  Central\n",
       "2        3        Akron          Ohio  United States     East\n",
       "3        4  Albuquerque    New Mexico  United States     West\n",
       "4        5   Alexandria      Virginia  United States    South"
      ]
     },
     "execution_count": 23,
     "metadata": {},
     "output_type": "execute_result"
    }
   ],
   "source": [
    "LocRw = DimLoc.shape[0]\n",
    "DimLoc.insert(0, 'CityKey', range(1, 1 + LocRw))\n",
    "DimLoc.set_index('CityKey')\n",
    "DimLoc.head()"
   ]
  },
  {
   "cell_type": "code",
   "execution_count": 24,
   "id": "e946e2d8",
   "metadata": {},
   "outputs": [
    {
     "data": {
      "text/plain": [
       "(1894, 4)"
      ]
     },
     "execution_count": 24,
     "metadata": {},
     "output_type": "execute_result"
    }
   ],
   "source": [
    "#NeH Decl Product tabL e\n",
    "DimPrd = df[['Product ID', 'Product Name', 'Sub-Category', 'Category']].drop_duplicates().sort_values('Product ID').reset_index(drop = True)\n",
    "DimPrd.shape"
   ]
  },
  {
   "cell_type": "code",
   "execution_count": 25,
   "id": "3b84695d",
   "metadata": {},
   "outputs": [
    {
     "data": {
      "text/html": [
       "<div>\n",
       "<style scoped>\n",
       "    .dataframe tbody tr th:only-of-type {\n",
       "        vertical-align: middle;\n",
       "    }\n",
       "\n",
       "    .dataframe tbody tr th {\n",
       "        vertical-align: top;\n",
       "    }\n",
       "\n",
       "    .dataframe thead th {\n",
       "        text-align: right;\n",
       "    }\n",
       "</style>\n",
       "<table border=\"1\" class=\"dataframe\">\n",
       "  <thead>\n",
       "    <tr style=\"text-align: right;\">\n",
       "      <th></th>\n",
       "      <th>Product ID</th>\n",
       "      <th>Product Name</th>\n",
       "      <th>Sub-Category</th>\n",
       "      <th>Category</th>\n",
       "    </tr>\n",
       "  </thead>\n",
       "  <tbody>\n",
       "    <tr>\n",
       "      <th>0</th>\n",
       "      <td>FUR-BO-10000112</td>\n",
       "      <td>Bush Birmingham Collection Bookcase, Dark Cherry</td>\n",
       "      <td>Bookcases</td>\n",
       "      <td>Furniture</td>\n",
       "    </tr>\n",
       "    <tr>\n",
       "      <th>1</th>\n",
       "      <td>FUR-BO-10000330</td>\n",
       "      <td>Sauder Camden County Barrister Bookcase, Plank...</td>\n",
       "      <td>Bookcases</td>\n",
       "      <td>Furniture</td>\n",
       "    </tr>\n",
       "    <tr>\n",
       "      <th>2</th>\n",
       "      <td>FUR-BO-10000362</td>\n",
       "      <td>Sauder Inglewood Library Bookcases</td>\n",
       "      <td>Bookcases</td>\n",
       "      <td>Furniture</td>\n",
       "    </tr>\n",
       "    <tr>\n",
       "      <th>3</th>\n",
       "      <td>FUR-BO-10000468</td>\n",
       "      <td>O'Sullivan 2-Shelf Heavy-Duty Bookcases</td>\n",
       "      <td>Bookcases</td>\n",
       "      <td>Furniture</td>\n",
       "    </tr>\n",
       "    <tr>\n",
       "      <th>4</th>\n",
       "      <td>FUR-BO-10000711</td>\n",
       "      <td>Hon Metal Bookcases, Gray</td>\n",
       "      <td>Bookcases</td>\n",
       "      <td>Furniture</td>\n",
       "    </tr>\n",
       "  </tbody>\n",
       "</table>\n",
       "</div>"
      ],
      "text/plain": [
       "        Product ID                                       Product Name  \\\n",
       "0  FUR-BO-10000112   Bush Birmingham Collection Bookcase, Dark Cherry   \n",
       "1  FUR-BO-10000330  Sauder Camden County Barrister Bookcase, Plank...   \n",
       "2  FUR-BO-10000362                 Sauder Inglewood Library Bookcases   \n",
       "3  FUR-BO-10000468            O'Sullivan 2-Shelf Heavy-Duty Bookcases   \n",
       "4  FUR-BO-10000711                          Hon Metal Bookcases, Gray   \n",
       "\n",
       "  Sub-Category   Category  \n",
       "0    Bookcases  Furniture  \n",
       "1    Bookcases  Furniture  \n",
       "2    Bookcases  Furniture  \n",
       "3    Bookcases  Furniture  \n",
       "4    Bookcases  Furniture  "
      ]
     },
     "execution_count": 25,
     "metadata": {},
     "output_type": "execute_result"
    }
   ],
   "source": [
    "DimPrd.head()"
   ]
  },
  {
   "cell_type": "code",
   "execution_count": 26,
   "id": "ca275995",
   "metadata": {},
   "outputs": [
    {
     "data": {
      "text/plain": [
       "(1237, 1)"
      ]
     },
     "execution_count": 26,
     "metadata": {},
     "output_type": "execute_result"
    }
   ],
   "source": [
    "DimDt = df[['Order Date']].drop_duplicates().sort_values('Order Date').reset_index(drop = True)\n",
    "DimDt.shape"
   ]
  },
  {
   "cell_type": "code",
   "execution_count": 27,
   "id": "a078fc2c",
   "metadata": {},
   "outputs": [
    {
     "data": {
      "text/plain": [
       "Order Date    datetime64[ns]\n",
       "dtype: object"
      ]
     },
     "execution_count": 27,
     "metadata": {},
     "output_type": "execute_result"
    }
   ],
   "source": [
    "DimDt.dtypes\n"
   ]
  },
  {
   "cell_type": "code",
   "execution_count": 28,
   "id": "5546bd34",
   "metadata": {},
   "outputs": [],
   "source": [
    "DimDt['Day'] = DimDt['Order Date'].apply(lambda x : x.day)\n",
    "DimDt['Week'] = DimDt['Order Date'].apply(lambda x : x.week)\n",
    "DimDt['Month'] = DimDt['Order Date'].apply(lambda x : x.month)\n",
    "DimDt['Quarter'] = DimDt['Order Date'].apply(lambda x : x.quarter)\n",
    "DimDt['Year'] = DimDt['Order Date'].apply(lambda x : x.year)"
   ]
  },
  {
   "cell_type": "code",
   "execution_count": 29,
   "id": "fbad575f",
   "metadata": {},
   "outputs": [
    {
     "data": {
      "text/html": [
       "<div>\n",
       "<style scoped>\n",
       "    .dataframe tbody tr th:only-of-type {\n",
       "        vertical-align: middle;\n",
       "    }\n",
       "\n",
       "    .dataframe tbody tr th {\n",
       "        vertical-align: top;\n",
       "    }\n",
       "\n",
       "    .dataframe thead th {\n",
       "        text-align: right;\n",
       "    }\n",
       "</style>\n",
       "<table border=\"1\" class=\"dataframe\">\n",
       "  <thead>\n",
       "    <tr style=\"text-align: right;\">\n",
       "      <th></th>\n",
       "      <th>Order Date</th>\n",
       "      <th>Day</th>\n",
       "      <th>Week</th>\n",
       "      <th>Month</th>\n",
       "      <th>Quarter</th>\n",
       "      <th>Year</th>\n",
       "    </tr>\n",
       "  </thead>\n",
       "  <tbody>\n",
       "    <tr>\n",
       "      <th>0</th>\n",
       "      <td>2014-01-03</td>\n",
       "      <td>3</td>\n",
       "      <td>1</td>\n",
       "      <td>1</td>\n",
       "      <td>1</td>\n",
       "      <td>2014</td>\n",
       "    </tr>\n",
       "    <tr>\n",
       "      <th>1</th>\n",
       "      <td>2014-01-04</td>\n",
       "      <td>4</td>\n",
       "      <td>1</td>\n",
       "      <td>1</td>\n",
       "      <td>1</td>\n",
       "      <td>2014</td>\n",
       "    </tr>\n",
       "    <tr>\n",
       "      <th>2</th>\n",
       "      <td>2014-01-05</td>\n",
       "      <td>5</td>\n",
       "      <td>1</td>\n",
       "      <td>1</td>\n",
       "      <td>1</td>\n",
       "      <td>2014</td>\n",
       "    </tr>\n",
       "    <tr>\n",
       "      <th>3</th>\n",
       "      <td>2014-01-06</td>\n",
       "      <td>6</td>\n",
       "      <td>2</td>\n",
       "      <td>1</td>\n",
       "      <td>1</td>\n",
       "      <td>2014</td>\n",
       "    </tr>\n",
       "    <tr>\n",
       "      <th>4</th>\n",
       "      <td>2014-01-07</td>\n",
       "      <td>7</td>\n",
       "      <td>2</td>\n",
       "      <td>1</td>\n",
       "      <td>1</td>\n",
       "      <td>2014</td>\n",
       "    </tr>\n",
       "  </tbody>\n",
       "</table>\n",
       "</div>"
      ],
      "text/plain": [
       "  Order Date  Day  Week  Month  Quarter  Year\n",
       "0 2014-01-03    3     1      1        1  2014\n",
       "1 2014-01-04    4     1      1        1  2014\n",
       "2 2014-01-05    5     1      1        1  2014\n",
       "3 2014-01-06    6     2      1        1  2014\n",
       "4 2014-01-07    7     2      1        1  2014"
      ]
     },
     "execution_count": 29,
     "metadata": {},
     "output_type": "execute_result"
    }
   ],
   "source": [
    "DimDt.head()"
   ]
  },
  {
   "cell_type": "code",
   "execution_count": 30,
   "id": "fe75ed7c",
   "metadata": {},
   "outputs": [
    {
     "name": "stdout",
     "output_type": "stream",
     "text": [
      "(9986, 7)\n"
     ]
    },
    {
     "data": {
      "text/html": [
       "<div>\n",
       "<style scoped>\n",
       "    .dataframe tbody tr th:only-of-type {\n",
       "        vertical-align: middle;\n",
       "    }\n",
       "\n",
       "    .dataframe tbody tr th {\n",
       "        vertical-align: top;\n",
       "    }\n",
       "\n",
       "    .dataframe thead th {\n",
       "        text-align: right;\n",
       "    }\n",
       "</style>\n",
       "<table border=\"1\" class=\"dataframe\">\n",
       "  <thead>\n",
       "    <tr style=\"text-align: right;\">\n",
       "      <th></th>\n",
       "      <th>Order Date</th>\n",
       "      <th>City</th>\n",
       "      <th>Product ID</th>\n",
       "      <th>SalesQtyTotal</th>\n",
       "      <th>SalesAmtTotal</th>\n",
       "      <th>DisAmtTotal</th>\n",
       "      <th>ProfAmtTotal</th>\n",
       "    </tr>\n",
       "  </thead>\n",
       "  <tbody>\n",
       "    <tr>\n",
       "      <th>0</th>\n",
       "      <td>2014-01-03</td>\n",
       "      <td>Houston</td>\n",
       "      <td>OFF-PA-10000174</td>\n",
       "      <td>2</td>\n",
       "      <td>16.448</td>\n",
       "      <td>0.2</td>\n",
       "      <td>5.5512</td>\n",
       "    </tr>\n",
       "    <tr>\n",
       "      <th>1</th>\n",
       "      <td>2014-01-04</td>\n",
       "      <td>Naperville</td>\n",
       "      <td>OFF-BI-10004094</td>\n",
       "      <td>2</td>\n",
       "      <td>3.540</td>\n",
       "      <td>0.8</td>\n",
       "      <td>-5.4870</td>\n",
       "    </tr>\n",
       "    <tr>\n",
       "      <th>2</th>\n",
       "      <td>2014-01-04</td>\n",
       "      <td>Naperville</td>\n",
       "      <td>OFF-LA-10003223</td>\n",
       "      <td>3</td>\n",
       "      <td>11.784</td>\n",
       "      <td>0.2</td>\n",
       "      <td>4.2717</td>\n",
       "    </tr>\n",
       "    <tr>\n",
       "      <th>3</th>\n",
       "      <td>2014-01-04</td>\n",
       "      <td>Naperville</td>\n",
       "      <td>OFF-ST-10002743</td>\n",
       "      <td>3</td>\n",
       "      <td>272.736</td>\n",
       "      <td>0.2</td>\n",
       "      <td>-64.7748</td>\n",
       "    </tr>\n",
       "    <tr>\n",
       "      <th>4</th>\n",
       "      <td>2014-01-05</td>\n",
       "      <td>Philadelphia</td>\n",
       "      <td>OFF-AR-10003478</td>\n",
       "      <td>3</td>\n",
       "      <td>19.536</td>\n",
       "      <td>0.2</td>\n",
       "      <td>4.8840</td>\n",
       "    </tr>\n",
       "  </tbody>\n",
       "</table>\n",
       "</div>"
      ],
      "text/plain": [
       "  Order Date          City       Product ID  SalesQtyTotal  SalesAmtTotal  \\\n",
       "0 2014-01-03       Houston  OFF-PA-10000174              2         16.448   \n",
       "1 2014-01-04    Naperville  OFF-BI-10004094              2          3.540   \n",
       "2 2014-01-04    Naperville  OFF-LA-10003223              3         11.784   \n",
       "3 2014-01-04    Naperville  OFF-ST-10002743              3        272.736   \n",
       "4 2014-01-05  Philadelphia  OFF-AR-10003478              3         19.536   \n",
       "\n",
       "   DisAmtTotal  ProfAmtTotal  \n",
       "0          0.2        5.5512  \n",
       "1          0.8       -5.4870  \n",
       "2          0.2        4.2717  \n",
       "3          0.2      -64.7748  \n",
       "4          0.2        4.8840  "
      ]
     },
     "execution_count": 30,
     "metadata": {},
     "output_type": "execute_result"
    }
   ],
   "source": [
    "SalesFct = df.groupby(['Order Date', 'City', 'Product ID']).agg(SalesQtyTotal = ('Quantity', 'sum'),\n",
    " SalesAmtTotal = ('Sales', 'sum'), DisAmtTotal = ('Discount', 'sum'), ProfAmtTotal = ('Profit', 'sum')).reset_index()\n",
    "print(SalesFct.shape)\n",
    "SalesFct.head()"
   ]
  },
  {
   "cell_type": "code",
   "execution_count": 31,
   "id": "02160905",
   "metadata": {},
   "outputs": [],
   "source": [
    "SalesFct['CostAmt'] = SalesFct['SalesAmtTotal'] - SalesFct['ProfAmtTotal']"
   ]
  },
  {
   "cell_type": "code",
   "execution_count": 32,
   "id": "304d18a3",
   "metadata": {},
   "outputs": [
    {
     "data": {
      "text/html": [
       "<div>\n",
       "<style scoped>\n",
       "    .dataframe tbody tr th:only-of-type {\n",
       "        vertical-align: middle;\n",
       "    }\n",
       "\n",
       "    .dataframe tbody tr th {\n",
       "        vertical-align: top;\n",
       "    }\n",
       "\n",
       "    .dataframe thead th {\n",
       "        text-align: right;\n",
       "    }\n",
       "</style>\n",
       "<table border=\"1\" class=\"dataframe\">\n",
       "  <thead>\n",
       "    <tr style=\"text-align: right;\">\n",
       "      <th></th>\n",
       "      <th>Order Date</th>\n",
       "      <th>City</th>\n",
       "      <th>Product ID</th>\n",
       "      <th>SalesQtyTotal</th>\n",
       "      <th>SalesAmtTotal</th>\n",
       "      <th>DisAmtTotal</th>\n",
       "      <th>ProfAmtTotal</th>\n",
       "      <th>CostAmt</th>\n",
       "    </tr>\n",
       "  </thead>\n",
       "  <tbody>\n",
       "    <tr>\n",
       "      <th>0</th>\n",
       "      <td>2014-01-03</td>\n",
       "      <td>Houston</td>\n",
       "      <td>OFF-PA-10000174</td>\n",
       "      <td>2</td>\n",
       "      <td>16.448</td>\n",
       "      <td>0.2</td>\n",
       "      <td>5.5512</td>\n",
       "      <td>10.8968</td>\n",
       "    </tr>\n",
       "    <tr>\n",
       "      <th>1</th>\n",
       "      <td>2014-01-04</td>\n",
       "      <td>Naperville</td>\n",
       "      <td>OFF-BI-10004094</td>\n",
       "      <td>2</td>\n",
       "      <td>3.540</td>\n",
       "      <td>0.8</td>\n",
       "      <td>-5.4870</td>\n",
       "      <td>9.0270</td>\n",
       "    </tr>\n",
       "    <tr>\n",
       "      <th>2</th>\n",
       "      <td>2014-01-04</td>\n",
       "      <td>Naperville</td>\n",
       "      <td>OFF-LA-10003223</td>\n",
       "      <td>3</td>\n",
       "      <td>11.784</td>\n",
       "      <td>0.2</td>\n",
       "      <td>4.2717</td>\n",
       "      <td>7.5123</td>\n",
       "    </tr>\n",
       "    <tr>\n",
       "      <th>3</th>\n",
       "      <td>2014-01-04</td>\n",
       "      <td>Naperville</td>\n",
       "      <td>OFF-ST-10002743</td>\n",
       "      <td>3</td>\n",
       "      <td>272.736</td>\n",
       "      <td>0.2</td>\n",
       "      <td>-64.7748</td>\n",
       "      <td>337.5108</td>\n",
       "    </tr>\n",
       "    <tr>\n",
       "      <th>4</th>\n",
       "      <td>2014-01-05</td>\n",
       "      <td>Philadelphia</td>\n",
       "      <td>OFF-AR-10003478</td>\n",
       "      <td>3</td>\n",
       "      <td>19.536</td>\n",
       "      <td>0.2</td>\n",
       "      <td>4.8840</td>\n",
       "      <td>14.6520</td>\n",
       "    </tr>\n",
       "  </tbody>\n",
       "</table>\n",
       "</div>"
      ],
      "text/plain": [
       "  Order Date          City       Product ID  SalesQtyTotal  SalesAmtTotal  \\\n",
       "0 2014-01-03       Houston  OFF-PA-10000174              2         16.448   \n",
       "1 2014-01-04    Naperville  OFF-BI-10004094              2          3.540   \n",
       "2 2014-01-04    Naperville  OFF-LA-10003223              3         11.784   \n",
       "3 2014-01-04    Naperville  OFF-ST-10002743              3        272.736   \n",
       "4 2014-01-05  Philadelphia  OFF-AR-10003478              3         19.536   \n",
       "\n",
       "   DisAmtTotal  ProfAmtTotal   CostAmt  \n",
       "0          0.2        5.5512   10.8968  \n",
       "1          0.8       -5.4870    9.0270  \n",
       "2          0.2        4.2717    7.5123  \n",
       "3          0.2      -64.7748  337.5108  \n",
       "4          0.2        4.8840   14.6520  "
      ]
     },
     "execution_count": 32,
     "metadata": {},
     "output_type": "execute_result"
    }
   ],
   "source": [
    "SalesFct.head()"
   ]
  },
  {
   "cell_type": "code",
   "execution_count": 33,
   "id": "b5d5a210",
   "metadata": {},
   "outputs": [
    {
     "name": "stdout",
     "output_type": "stream",
     "text": [
      "(9986, 8)\n"
     ]
    },
    {
     "data": {
      "text/html": [
       "<div>\n",
       "<style scoped>\n",
       "    .dataframe tbody tr th:only-of-type {\n",
       "        vertical-align: middle;\n",
       "    }\n",
       "\n",
       "    .dataframe tbody tr th {\n",
       "        vertical-align: top;\n",
       "    }\n",
       "\n",
       "    .dataframe thead th {\n",
       "        text-align: right;\n",
       "    }\n",
       "</style>\n",
       "<table border=\"1\" class=\"dataframe\">\n",
       "  <thead>\n",
       "    <tr style=\"text-align: right;\">\n",
       "      <th></th>\n",
       "      <th>Order Date</th>\n",
       "      <th>Customer ID</th>\n",
       "      <th>City</th>\n",
       "      <th>Product ID</th>\n",
       "      <th>SalesQtyTotal</th>\n",
       "      <th>SalesAmtTotal</th>\n",
       "      <th>DisAmtTotal</th>\n",
       "      <th>ProfAmtTotal</th>\n",
       "    </tr>\n",
       "  </thead>\n",
       "  <tbody>\n",
       "    <tr>\n",
       "      <th>0</th>\n",
       "      <td>2014-01-03</td>\n",
       "      <td>DP-13000</td>\n",
       "      <td>Houston</td>\n",
       "      <td>OFF-PA-10000174</td>\n",
       "      <td>2</td>\n",
       "      <td>16.448</td>\n",
       "      <td>0.2</td>\n",
       "      <td>5.5512</td>\n",
       "    </tr>\n",
       "    <tr>\n",
       "      <th>1</th>\n",
       "      <td>2014-01-04</td>\n",
       "      <td>PO-19195</td>\n",
       "      <td>Naperville</td>\n",
       "      <td>OFF-BI-10004094</td>\n",
       "      <td>2</td>\n",
       "      <td>3.540</td>\n",
       "      <td>0.8</td>\n",
       "      <td>-5.4870</td>\n",
       "    </tr>\n",
       "    <tr>\n",
       "      <th>2</th>\n",
       "      <td>2014-01-04</td>\n",
       "      <td>PO-19195</td>\n",
       "      <td>Naperville</td>\n",
       "      <td>OFF-LA-10003223</td>\n",
       "      <td>3</td>\n",
       "      <td>11.784</td>\n",
       "      <td>0.2</td>\n",
       "      <td>4.2717</td>\n",
       "    </tr>\n",
       "    <tr>\n",
       "      <th>3</th>\n",
       "      <td>2014-01-04</td>\n",
       "      <td>PO-19195</td>\n",
       "      <td>Naperville</td>\n",
       "      <td>OFF-ST-10002743</td>\n",
       "      <td>3</td>\n",
       "      <td>272.736</td>\n",
       "      <td>0.2</td>\n",
       "      <td>-64.7748</td>\n",
       "    </tr>\n",
       "    <tr>\n",
       "      <th>4</th>\n",
       "      <td>2014-01-05</td>\n",
       "      <td>MB-18085</td>\n",
       "      <td>Philadelphia</td>\n",
       "      <td>OFF-AR-10003478</td>\n",
       "      <td>3</td>\n",
       "      <td>19.536</td>\n",
       "      <td>0.2</td>\n",
       "      <td>4.8840</td>\n",
       "    </tr>\n",
       "  </tbody>\n",
       "</table>\n",
       "</div>"
      ],
      "text/plain": [
       "  Order Date Customer ID          City       Product ID  SalesQtyTotal  \\\n",
       "0 2014-01-03    DP-13000       Houston  OFF-PA-10000174              2   \n",
       "1 2014-01-04    PO-19195    Naperville  OFF-BI-10004094              2   \n",
       "2 2014-01-04    PO-19195    Naperville  OFF-LA-10003223              3   \n",
       "3 2014-01-04    PO-19195    Naperville  OFF-ST-10002743              3   \n",
       "4 2014-01-05    MB-18085  Philadelphia  OFF-AR-10003478              3   \n",
       "\n",
       "   SalesAmtTotal  DisAmtTotal  ProfAmtTotal  \n",
       "0         16.448          0.2        5.5512  \n",
       "1          3.540          0.8       -5.4870  \n",
       "2         11.784          0.2        4.2717  \n",
       "3        272.736          0.2      -64.7748  \n",
       "4         19.536          0.2        4.8840  "
      ]
     },
     "execution_count": 33,
     "metadata": {},
     "output_type": "execute_result"
    }
   ],
   "source": [
    "SalesCstFct = df.groupby(['Order Date', 'Customer ID', 'City', 'Product ID']).agg(SalesQtyTotal = ('Quantity', 'sum'),\n",
    " SalesAmtTotal = ('Sales', 'sum'), DisAmtTotal = ('Discount', 'sum'), ProfAmtTotal = ('Profit', 'sum')).reset_index()\n",
    "print(SalesCstFct.shape)\n",
    "SalesCstFct.head()"
   ]
  },
  {
   "cell_type": "code",
   "execution_count": 34,
   "id": "45c5b153",
   "metadata": {},
   "outputs": [],
   "source": [
    "DimCst.to_csv('E:/Course/DataWareHousing/Final/Labs/DataSets/DW/DimCst.csv', index=False)"
   ]
  },
  {
   "cell_type": "code",
   "execution_count": 35,
   "id": "126a8f9e",
   "metadata": {},
   "outputs": [],
   "source": [
    "DimLoc.to_csv('E:/Course/DataWareHousing/Final/Labs/DataSets/DW/DimLoc.csv', index=False)"
   ]
  },
  {
   "cell_type": "code",
   "execution_count": 36,
   "id": "c327deab",
   "metadata": {},
   "outputs": [],
   "source": [
    "DimPrd.to_csv('E:/Course/DataWareHousing/Final/Labs/DataSets/DW/DimPrd.csv', index=False)"
   ]
  },
  {
   "cell_type": "code",
   "execution_count": 37,
   "id": "01b10b6b",
   "metadata": {},
   "outputs": [],
   "source": [
    "DimDt.to_csv('E:/Course/DataWareHousing/Final/Labs/DataSets/DW/DimDt.csv', index=False)"
   ]
  },
  {
   "cell_type": "code",
   "execution_count": 38,
   "id": "2a86c815",
   "metadata": {},
   "outputs": [],
   "source": [
    "SalesFct.to_csv('E:/Course/DataWareHousing/Final/Labs/DataSets/DW/SalesFct.csv', index=False)"
   ]
  },
  {
   "cell_type": "code",
   "execution_count": 39,
   "id": "9b3e4b8f",
   "metadata": {},
   "outputs": [],
   "source": [
    "SalesCstFct.to_csv('E:/Course/DataWareHousing/Final/Labs/DataSets/DW/SaleCstsFct.csv', index=False)"
   ]
  }
 ],
 "metadata": {
  "kernelspec": {
   "display_name": "finalenv",
   "language": "python",
   "name": "python3"
  },
  "language_info": {
   "codemirror_mode": {
    "name": "ipython",
    "version": 3
   },
   "file_extension": ".py",
   "mimetype": "text/x-python",
   "name": "python",
   "nbconvert_exporter": "python",
   "pygments_lexer": "ipython3",
   "version": "3.6.8 (tags/v3.6.8:3c6b436a57, Dec 24 2018, 00:16:47) [MSC v.1916 64 bit (AMD64)]"
  },
  "vscode": {
   "interpreter": {
    "hash": "5510be7a26002d3a8fe46488945e19e085093859da5c60ed6f554a7d9d74d9ec"
   }
  }
 },
 "nbformat": 4,
 "nbformat_minor": 5
}
