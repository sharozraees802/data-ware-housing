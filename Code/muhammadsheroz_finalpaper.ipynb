{
 "cells": [
  {
   "attachments": {},
   "cell_type": "markdown",
   "metadata": {},
   "source": [
    "<center>\n",
    "<h1>Final Exam</h1>\n",
    "</center>"
   ]
  },
  {
   "attachments": {},
   "cell_type": "markdown",
   "metadata": {},
   "source": [
    "<table style=\"width:100%\">\n",
    "  <tr>\n",
    "    <th>Student Name</th>\n",
    "    <th>Student Id</th>\n",
    "    <th>Course Name</th>\n",
    "    <th>Course Id</th>\n",
    "  </tr>\n",
    "  <tr>\n",
    "    <th>Muhammad Sheroz</th>\n",
    "    <th>9852</th>\n",
    "    <th>Data Warehousing</th>\n",
    "    <th>110968</th>\n",
    "  </tr>\n",
    "</table>"
   ]
  },
  {
   "cell_type": "code",
   "execution_count": null,
   "metadata": {},
   "outputs": [],
   "source": []
  }
 ],
 "metadata": {
  "kernelspec": {
   "display_name": "Python 3",
   "language": "python",
   "name": "python3"
  },
  "language_info": {
   "name": "python",
   "version": "3.6.8 (tags/v3.6.8:3c6b436a57, Dec 24 2018, 00:16:47) [MSC v.1916 64 bit (AMD64)]"
  },
  "orig_nbformat": 4,
  "vscode": {
   "interpreter": {
    "hash": "7d68a7330014a4d2cd533d23745c08707f4a9e80cc59c77529288ccb909d6bea"
   }
  }
 },
 "nbformat": 4,
 "nbformat_minor": 2
}
