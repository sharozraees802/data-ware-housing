{
 "cells": [
  {
   "attachments": {},
   "cell_type": "markdown",
   "metadata": {},
   "source": [
    "<center>\n",
    "<h1>Final Exam</h1>\n",
    "</center>"
   ]
  },
  {
   "attachments": {},
   "cell_type": "markdown",
   "metadata": {},
   "source": [
    "<table style=\"width:100%\">\n",
    "  <tr>\n",
    "    <th>Student Name</th>\n",
    "    <th>Student Id</th>\n",
    "    <th>Course Name</th>\n",
    "    <th>Course Id</th>\n",
    "  </tr>\n",
    "  <tr>\n",
    "    <th>Muhammad Sheroz</th>\n",
    "    <th>9852</th>\n",
    "    <th>Data Warehousing</th>\n",
    "    <th>110968</th>\n",
    "  </tr>\n",
    "</table>"
   ]
  },
  {
   "cell_type": "code",
   "execution_count": 1,
   "metadata": {},
   "outputs": [],
   "source": [
    "import pandas as pd\n",
    "import matplotlib.pyplot as plt"
   ]
  }
 ],
 "metadata": {
  "kernelspec": {
   "display_name": "finalenv",
   "language": "python",
   "name": "python3"
  },
  "language_info": {
   "codemirror_mode": {
    "name": "ipython",
    "version": 3
   },
   "file_extension": ".py",
   "mimetype": "text/x-python",
   "name": "python",
   "nbconvert_exporter": "python",
   "pygments_lexer": "ipython3",
   "version": "3.6.8"
  },
  "orig_nbformat": 4,
  "vscode": {
   "interpreter": {
    "hash": "5510be7a26002d3a8fe46488945e19e085093859da5c60ed6f554a7d9d74d9ec"
   }
  }
 },
 "nbformat": 4,
 "nbformat_minor": 2
}
